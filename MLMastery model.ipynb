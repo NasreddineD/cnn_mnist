{
 "cells": [
  {
   "cell_type": "markdown",
   "id": "22f7a5e5",
   "metadata": {
    "toc": true
   },
   "source": [
    "<h1>Table of Contents<span class=\"tocSkip\"></span></h1>\n",
    "<div class=\"toc\"><ul class=\"toc-item\"><li><span><a href=\"#Clean\" data-toc-modified-id=\"Clean-1\"><span class=\"toc-item-num\">1&nbsp;&nbsp;</span>Clean</a></span></li><li><span><a href=\"#Code-qui-fonctionne-et-n'overfit-pas\" data-toc-modified-id=\"Code-qui-fonctionne-et-n'overfit-pas-2\"><span class=\"toc-item-num\">2&nbsp;&nbsp;</span>Code qui fonctionne et n'overfit pas</a></span></li><li><span><a href=\"#Afficher-les-tests\" data-toc-modified-id=\"Afficher-les-tests-3\"><span class=\"toc-item-num\">3&nbsp;&nbsp;</span>Afficher les tests</a></span></li></ul></div>"
   ]
  },
  {
   "cell_type": "code",
   "execution_count": 14,
   "id": "686fb68d",
   "metadata": {},
   "outputs": [],
   "source": [
    "# Data manip\n",
    "import numpy as np\n",
    "import pandas as pd\n",
    "import matplotlib.pyplot as plt\n",
    "%matplotlib inline\n",
    "\n",
    "# Sklearn\n",
    "from sklearn.model_selection import train_test_split\n",
    "from sklearn.metrics import accuracy_score\n",
    "\n",
    "# Keras\n",
    "import tensorflow as tf\n",
    "from tensorflow.keras.models import Sequential # initialize neural network library\n",
    "from tensorflow.keras.layers import Dense, Dropout, Conv2D, MaxPooling2D, Flatten # build our layers library\n",
    "from tensorflow.keras.callbacks import EarlyStopping, ModelCheckpoint\n",
    "\n",
    "from tensorflow.keras.models import save_model, load_model"
   ]
  },
  {
   "cell_type": "markdown",
   "id": "e0d4142f",
   "metadata": {
    "heading_collapsed": true
   },
   "source": [
    "# Clean"
   ]
  },
  {
   "cell_type": "code",
   "execution_count": null,
   "id": "8f33ec03",
   "metadata": {
    "hidden": true
   },
   "outputs": [],
   "source": [
    "# load dataset and split data\n",
    "def load_dataset():\n",
    "    # load dataset\n",
    "    data = pd.read_csv(\"C:/Users/Simplon/Google Drive/Nasreddine/Arturo/14 - DEEP LEARNING/03 - MNIST/train.csv\")\n",
    "    \n",
    "    # Define target-features\n",
    "    y = np.array(data.iloc[:,0].values)\n",
    "    X = np.array(data.iloc[:,1:].values)\n",
    "    \n",
    "    # Normalize the data\n",
    "    X = X/255\n",
    "    \n",
    "    # Reshape dataset to have a single channel\n",
    "    X = X.reshape((X.shape[0], 28, 28, 1))\n",
    "    \n",
    "    # One hot encode target values\n",
    "    y = tf.keras.utils.to_categorical(y)\n",
    "    \n",
    "    # Train-test split\n",
    "    X_train, X_test, y_train, y_test = train_test_split(X,y,test_size = 0.3,random_state=42, stratify=y)\n",
    "    \n",
    "    return X_train, X_test, y_train, y_test"
   ]
  },
  {
   "cell_type": "code",
   "execution_count": null,
   "id": "0e955a59",
   "metadata": {
    "hidden": true
   },
   "outputs": [],
   "source": [
    "# define CNN model\n",
    "def define_model():\n",
    "    model = Sequential()\n",
    "    \n",
    "    model.add(Conv2D(32, (3, 3), activation='relu', input_shape=(28, 28, 1)))\n",
    "    model.add(MaxPooling2D((2, 2)))\n",
    "    model.add(Flatten())\n",
    "    \n",
    "    model.add(Dense(100, activation='relu'))\n",
    "    model.add(Dense(10, activation='softmax'))\n",
    "    \n",
    "    # compile model\n",
    "    model.compile(optimizer = 'adam', loss = 'categorical_crossentropy', metrics=['accuracy'])\n",
    "    return model"
   ]
  },
  {
   "cell_type": "code",
   "execution_count": null,
   "id": "19af08ad",
   "metadata": {
    "hidden": true
   },
   "outputs": [],
   "source": [
    "# evaluate a model\n",
    "def evaluate_model():\n",
    "    # define model\n",
    "    model = define_model()\n",
    "    \n",
    "    # fit the model\n",
    "    history = model.fit(X_train, y_train, epochs=10, batch_size=32, validation_split=0.2, verbose=1)\n",
    "\n",
    "    return history"
   ]
  },
  {
   "cell_type": "code",
   "execution_count": null,
   "id": "747f027f",
   "metadata": {
    "hidden": true
   },
   "outputs": [],
   "source": [
    "def summarize_diagnostics(histories):\n",
    "    for i in range(len(histories)):\n",
    "        # plot loss\n",
    "        plt.subplot(2, 1, 1)\n",
    "        plt.title('Cross Entropy Loss')\n",
    "        plt.plot(histories[i].history['loss'], color='blue', label='train')\n",
    "        plt.plot(histories[i].history['val_loss'], color='orange', label='test')\n",
    "        # plot accuracy\n",
    "        plt.subplot(2, 1, 2)\n",
    "        plt.title('Classification Accuracy')\n",
    "        plt.plot(histories[i].history['accuracy'], color='blue', label='train')\n",
    "        plt.plot(histories[i].history['val_accuracy'], color='orange', label='test')\n",
    "        plt.show()"
   ]
  },
  {
   "cell_type": "markdown",
   "id": "e4883461",
   "metadata": {},
   "source": [
    "# Code qui fonctionne et n'overfit pas"
   ]
  },
  {
   "cell_type": "code",
   "execution_count": 5,
   "id": "a8cfb047",
   "metadata": {},
   "outputs": [],
   "source": [
    "# load dataset\n",
    "data = pd.read_csv(\"C:/Users/Simplon/Google Drive/Nasreddine/Arturo/14 - DEEP LEARNING/03 - MNIST/train.csv\")\n",
    "    \n",
    "# Define target-features\n",
    "y = np.array(data.iloc[:,0].values)\n",
    "X = np.array(data.iloc[:,1:].values)\n",
    "    \n",
    "# Normalize the data\n",
    "X = X/255\n",
    "    \n",
    "# Reshape dataset to have a single channel\n",
    "X = X.reshape((X.shape[0], 28, 28, 1))\n",
    "    \n",
    "# One hot encode target values\n",
    "y = tf.keras.utils.to_categorical(y)\n",
    "    \n",
    "# Train-test split\n",
    "X_train, X_test, y_train, y_test = train_test_split(X,y,test_size = 0.3,random_state=42, stratify=y)"
   ]
  },
  {
   "cell_type": "code",
   "execution_count": 10,
   "id": "9c50bc2e",
   "metadata": {},
   "outputs": [],
   "source": [
    "##model building\n",
    "model = Sequential()\n",
    "#convolutional layer with rectified linear unit activation\n",
    "model.add(Conv2D(32, kernel_size=(3, 3),activation='relu',input_shape=(28, 28, 1)))\n",
    "#32 convolution filters used each of size 3x3\n",
    "#again\n",
    "model.add(Conv2D(64, (3, 3), activation='relu'))\n",
    "#64 convolution filters used each of size 3x3\n",
    "#choose the best features via pooling\n",
    "model.add(MaxPooling2D(pool_size=(2, 2)))\n",
    "#randomly turn neurons on and off to improve convergence\n",
    "model.add(Dropout(0.25))\n",
    "#flatten since too many dimensions, we only want a classification output\n",
    "model.add(Flatten())\n",
    "#fully connected to get all relevant data\n",
    "model.add(Dense(128, activation='relu'))\n",
    "#one more dropout for convergence' sake :) \n",
    "model.add(Dropout(0.5))\n",
    "#output a softmax to squash the matrix into output probabilities\n",
    "model.add(Dense(10, activation='softmax'))\n",
    "\n",
    "model.compile(loss=\"categorical_crossentropy\",\n",
    "              optimizer=\"Adam\",\n",
    "              metrics=['accuracy'])"
   ]
  },
  {
   "cell_type": "code",
   "execution_count": 11,
   "id": "08f9413c",
   "metadata": {},
   "outputs": [],
   "source": [
    "es = EarlyStopping(\n",
    "    min_delta=0.001, # minimium amount of change to count as an improvement\n",
    "    patience=3, # how many epochs to wait before stopping\n",
    "    restore_best_weights=True,\n",
    "    monitor = \"val_loss\"\n",
    ")"
   ]
  },
  {
   "cell_type": "code",
   "execution_count": 12,
   "id": "a4817e52",
   "metadata": {},
   "outputs": [],
   "source": [
    "mc = ModelCheckpoint('best_model.h5', monitor='val_accuracy', mode='max', verbose=1, save_best_only=True)"
   ]
  },
  {
   "cell_type": "code",
   "execution_count": 13,
   "id": "e0e81b29",
   "metadata": {
    "scrolled": true
   },
   "outputs": [
    {
     "name": "stdout",
     "output_type": "stream",
     "text": [
      "Epoch 1/20\n",
      "184/184 [==============================] - ETA: 0s - loss: 0.4148 - accuracy: 0.8710\n",
      "Epoch 00001: val_accuracy improved from -inf to 0.96786, saving model to best_model.h5\n",
      "184/184 [==============================] - 38s 203ms/step - loss: 0.4148 - accuracy: 0.8710 - val_loss: 0.1072 - val_accuracy: 0.9679\n",
      "Epoch 2/20\n",
      "184/184 [==============================] - ETA: 0s - loss: 0.1400 - accuracy: 0.9587\n",
      "Epoch 00002: val_accuracy improved from 0.96786 to 0.97772, saving model to best_model.h5\n",
      "184/184 [==============================] - 38s 204ms/step - loss: 0.1400 - accuracy: 0.9587 - val_loss: 0.0711 - val_accuracy: 0.9777\n",
      "Epoch 3/20\n",
      "184/184 [==============================] - ETA: 0s - loss: 0.1002 - accuracy: 0.9683\n",
      "Epoch 00003: val_accuracy improved from 0.97772 to 0.98010, saving model to best_model.h5\n",
      "184/184 [==============================] - 37s 202ms/step - loss: 0.1002 - accuracy: 0.9683 - val_loss: 0.0612 - val_accuracy: 0.9801\n",
      "Epoch 4/20\n",
      "184/184 [==============================] - ETA: 0s - loss: 0.0741 - accuracy: 0.9763\n",
      "Epoch 00004: val_accuracy improved from 0.98010 to 0.98146, saving model to best_model.h5\n",
      "184/184 [==============================] - 37s 203ms/step - loss: 0.0741 - accuracy: 0.9763 - val_loss: 0.0592 - val_accuracy: 0.9815\n",
      "Epoch 5/20\n",
      "184/184 [==============================] - ETA: 0s - loss: 0.0588 - accuracy: 0.9818\n",
      "Epoch 00005: val_accuracy improved from 0.98146 to 0.98452, saving model to best_model.h5\n",
      "184/184 [==============================] - 38s 208ms/step - loss: 0.0588 - accuracy: 0.9818 - val_loss: 0.0554 - val_accuracy: 0.9845\n",
      "Epoch 6/20\n",
      "184/184 [==============================] - ETA: 0s - loss: 0.0552 - accuracy: 0.9816\n",
      "Epoch 00006: val_accuracy improved from 0.98452 to 0.98486, saving model to best_model.h5\n",
      "184/184 [==============================] - 37s 203ms/step - loss: 0.0552 - accuracy: 0.9816 - val_loss: 0.0527 - val_accuracy: 0.9849\n",
      "Epoch 7/20\n",
      "184/184 [==============================] - ETA: 0s - loss: 0.0497 - accuracy: 0.9846\n",
      "Epoch 00007: val_accuracy improved from 0.98486 to 0.98571, saving model to best_model.h5\n",
      "184/184 [==============================] - 38s 206ms/step - loss: 0.0497 - accuracy: 0.9846 - val_loss: 0.0486 - val_accuracy: 0.9857\n",
      "Epoch 8/20\n",
      "184/184 [==============================] - ETA: 0s - loss: 0.0444 - accuracy: 0.9861\n",
      "Epoch 00008: val_accuracy improved from 0.98571 to 0.98656, saving model to best_model.h5\n",
      "184/184 [==============================] - 38s 204ms/step - loss: 0.0444 - accuracy: 0.9861 - val_loss: 0.0453 - val_accuracy: 0.9866\n",
      "Epoch 9/20\n",
      "184/184 [==============================] - ETA: 0s - loss: 0.0365 - accuracy: 0.9876\n",
      "Epoch 00009: val_accuracy did not improve from 0.98656\n",
      "184/184 [==============================] - 36s 198ms/step - loss: 0.0365 - accuracy: 0.9876 - val_loss: 0.0492 - val_accuracy: 0.9866\n",
      "Epoch 10/20\n",
      "184/184 [==============================] - ETA: 0s - loss: 0.0332 - accuracy: 0.9892\n",
      "Epoch 00010: val_accuracy improved from 0.98656 to 0.98673, saving model to best_model.h5\n",
      "184/184 [==============================] - 36s 195ms/step - loss: 0.0332 - accuracy: 0.9892 - val_loss: 0.0488 - val_accuracy: 0.9867\n",
      "Epoch 11/20\n",
      "184/184 [==============================] - ETA: 0s - loss: 0.0328 - accuracy: 0.9897\n",
      "Epoch 00011: val_accuracy improved from 0.98673 to 0.98707, saving model to best_model.h5\n",
      "184/184 [==============================] - 39s 212ms/step - loss: 0.0328 - accuracy: 0.9897 - val_loss: 0.0494 - val_accuracy: 0.9871\n"
     ]
    }
   ],
   "source": [
    "history = model.fit(X_train, y_train, epochs=20, batch_size=128, validation_split=0.2, callbacks=[es,mc], verbose=1)"
   ]
  },
  {
   "cell_type": "code",
   "execution_count": 17,
   "id": "cbde916f",
   "metadata": {},
   "outputs": [],
   "source": [
    "saved_model = load_model('best_model.h5')"
   ]
  },
  {
   "cell_type": "code",
   "execution_count": 18,
   "id": "d11297a4",
   "metadata": {
    "scrolled": true
   },
   "outputs": [
    {
     "name": "stdout",
     "output_type": "stream",
     "text": [
      "919/919 [==============================] - 14s 15ms/step - loss: 0.0156 - accuracy: 0.9957\n",
      "394/394 [==============================] - 6s 16ms/step - loss: 0.0392 - accuracy: 0.9883\n"
     ]
    }
   ],
   "source": [
    "_, train_acc = saved_model.evaluate(X_train, y_train, verbose=1)\n",
    "_, test_acc = saved_model.evaluate(X_test, y_test, verbose=1)\n",
    "print('Train: %.3f, Test: %.3f' % (train_acc, test_acc))"
   ]
  },
  {
   "cell_type": "code",
   "execution_count": 20,
   "id": "64d3fe90",
   "metadata": {},
   "outputs": [
    {
     "data": {
      "text/plain": [
       "<matplotlib.legend.Legend at 0x2705dc09b80>"
      ]
     },
     "execution_count": 20,
     "metadata": {},
     "output_type": "execute_result"
    },
    {
     "data": {
      "image/png": "[encoded data removed]",
      "text/plain": [
       "<Figure size 432x288 with 1 Axes>"
      ]
     },
     "metadata": {
      "needs_background": "light"
     },
     "output_type": "display_data"
    }
   ],
   "source": [
    "plt.plot(history.history['accuracy'], label='accuracy')\n",
    "plt.plot(history.history['val_accuracy'], label = 'val_accuracy')\n",
    "plt.xlabel('Epoch')\n",
    "plt.ylabel('Accuracy')\n",
    "plt.legend(loc='lower right')"
   ]
  },
  {
   "cell_type": "code",
   "execution_count": 21,
   "id": "a0a2897b",
   "metadata": {},
   "outputs": [
    {
     "data": {
      "text/plain": [
       "<matplotlib.legend.Legend at 0x2705bdc09d0>"
      ]
     },
     "execution_count": 21,
     "metadata": {},
     "output_type": "execute_result"
    },
    {
     "data": {
      "image/png": "[encoded data removed]",
      "text/plain": [
       "<Figure size 432x288 with 1 Axes>"
      ]
     },
     "metadata": {
      "needs_background": "light"
     },
     "output_type": "display_data"
    }
   ],
   "source": [
    "plt.plot(history.history['loss'])\n",
    "plt.plot(history.history['val_loss'])\n",
    "plt.title('model loss')\n",
    "plt.ylabel('loss')\n",
    "plt.xlabel('epoch')\n",
    "plt.legend(['train', 'test'], loc='upper left')"
   ]
  },
  {
   "cell_type": "code",
   "execution_count": null,
   "id": "822351d4",
   "metadata": {},
   "outputs": [],
   "source": [
    "save_model(model,'model.h5')"
   ]
  },
  {
   "cell_type": "code",
   "execution_count": null,
   "id": "b6c773bf",
   "metadata": {},
   "outputs": [],
   "source": [
    "#model2 = load_model('model.h5')"
   ]
  },
  {
   "cell_type": "markdown",
   "id": "5cc87cef",
   "metadata": {},
   "source": [
    "# Afficher les tests"
   ]
  },
  {
   "cell_type": "code",
   "execution_count": 15,
   "id": "8356c879",
   "metadata": {},
   "outputs": [],
   "source": [
    "# load dataset\n",
    "test = pd.read_csv(\"C:/Users/Simplon/Google Drive/Nasreddine/Arturo/14 - DEEP LEARNING/03 - MNIST/data/test.csv\")"
   ]
  },
  {
   "cell_type": "code",
   "execution_count": 16,
   "id": "faccd561",
   "metadata": {},
   "outputs": [
    {
     "data": {
      "text/plain": [
       "(28000, 784)"
      ]
     },
     "execution_count": 16,
     "metadata": {},
     "output_type": "execute_result"
    }
   ],
   "source": [
    "test.shape"
   ]
  },
  {
   "cell_type": "code",
   "execution_count": 17,
   "id": "d288d746",
   "metadata": {},
   "outputs": [],
   "source": [
    "# Normalize the data\n",
    "test = test/255"
   ]
  },
  {
   "cell_type": "code",
   "execution_count": 18,
   "id": "ba24b36c",
   "metadata": {},
   "outputs": [],
   "source": [
    "test = np.array(test)"
   ]
  },
  {
   "cell_type": "code",
   "execution_count": 19,
   "id": "68d4397c",
   "metadata": {
    "scrolled": true
   },
   "outputs": [],
   "source": [
    " # Reshape dataset to have a single channel\n",
    "test = test.reshape((test.shape[0], 28, 28, 1))"
   ]
  },
  {
   "cell_type": "code",
   "execution_count": 20,
   "id": "55c6183a",
   "metadata": {},
   "outputs": [
    {
     "data": {
      "text/plain": [
       "(28000, 28, 28, 1)"
      ]
     },
     "execution_count": 20,
     "metadata": {},
     "output_type": "execute_result"
    }
   ],
   "source": [
    "test.shape"
   ]
  },
  {
   "cell_type": "code",
   "execution_count": 21,
   "id": "55cf6ebb",
   "metadata": {},
   "outputs": [],
   "source": [
    "model = load_model(\"C:/Users/Simplon/Google Drive/Nasreddine/Arturo/14 - DEEP LEARNING/03 - MNIST/notebooks/model.h5\")"
   ]
  },
  {
   "cell_type": "code",
   "execution_count": 22,
   "id": "1a1f6727",
   "metadata": {},
   "outputs": [],
   "source": [
    "prediction = model.predict(test)"
   ]
  },
  {
   "cell_type": "code",
   "execution_count": 23,
   "id": "0da1707e",
   "metadata": {},
   "outputs": [],
   "source": [
    "prediction = np.argmax(prediction, axis=1)"
   ]
  },
  {
   "cell_type": "code",
   "execution_count": 24,
   "id": "c4187943",
   "metadata": {},
   "outputs": [],
   "source": [
    "def test_num_CNN(index):\n",
    "    #plt.title('Index: %d  Pred: %d Verif: %d' % (index, y_pred[index], y_testR[index]))\n",
    "    plt.imshow(test[index].reshape([28,28]), cmap=plt.get_cmap('gray'))\n",
    "    plt.show()"
   ]
  },
  {
   "cell_type": "code",
   "execution_count": 37,
   "id": "6ec484fb",
   "metadata": {
    "scrolled": true
   },
   "outputs": [
    {
     "data": {
      "image/png": "[encoded data removed]",
      "text/plain": [
       "<Figure size 432x288 with 1 Axes>"
      ]
     },
     "metadata": {
      "needs_background": "light"
     },
     "output_type": "display_data"
    },
    {
     "name": "stdout",
     "output_type": "stream",
     "text": [
      "le chiffre reconnu est:  9\n"
     ]
    }
   ],
   "source": [
    "############################################################################################\n",
    "########################### TEST ALEATOIRE #################################################\n",
    "\n",
    "index = np.random.choice(test.shape[0])\n",
    "test_num_CNN(index)\n",
    "\n",
    "print(\"le chiffre reconnu est: \", prediction[index])"
   ]
  },
  {
   "cell_type": "code",
   "execution_count": 38,
   "id": "b345a0ca",
   "metadata": {},
   "outputs": [
    {
     "data": {
      "image/png": "[encoded data removed]",
      "text/plain": [
       "<Figure size 720x720 with 25 Axes>"
      ]
     },
     "metadata": {
      "needs_background": "light"
     },
     "output_type": "display_data"
    }
   ],
   "source": [
    "rows = 5 # defining no. of rows\n",
    "cols = 5 # defining no. of columns\n",
    "\n",
    "f = plt.figure(figsize=(2*cols, 2*rows)) # defining a figure\n",
    "\n",
    "for i in range(rows*cols):\n",
    "    f.add_subplot(rows, cols, i+1) # adding sub plot to figure on each iteration\n",
    "    plt.imshow(test[i].reshape([28,28]), cmap=\"Blues\")\n",
    "    plt.axis(\"off\")\n",
    "    plt.title(str(prediction[i]), y=-0.15, color=\"green\")"
   ]
  }
 ],
 "metadata": {
  "hide_input": false,
  "kernelspec": {
   "display_name": "Python 3 (ipykernel)",
   "language": "python",
   "name": "python3"
  },
  "language_info": {
   "codemirror_mode": {
    "name": "ipython",
    "version": 3
   },
   "file_extension": ".py",
   "mimetype": "text/x-python",
   "name": "python",
   "nbconvert_exporter": "python",
   "pygments_lexer": "ipython3",
   "version": "3.8.8"
  },
  "toc": {
   "base_numbering": 1,
   "nav_menu": {},
   "number_sections": true,
   "sideBar": true,
   "skip_h1_title": false,
   "title_cell": "Table of Contents",
   "title_sidebar": "Contents",
   "toc_cell": true,
   "toc_position": {},
   "toc_section_display": true,
   "toc_window_display": false
  },
  "varInspector": {
   "cols": {
    "lenName": 16,
    "lenType": 16,
    "lenVar": 40
   },
   "kernels_config": {
    "python": {
     "delete_cmd_postfix": "",
     "delete_cmd_prefix": "del ",
     "library": "var_list.py",
     "varRefreshCmd": "print(var_dic_list())"
    },
    "r": {
     "delete_cmd_postfix": ") ",
     "delete_cmd_prefix": "rm(",
     "library": "var_list.r",
     "varRefreshCmd": "cat(var_dic_list()) "
    }
   },
   "types_to_exclude": [
    "module",
    "function",
    "builtin_function_or_method",
    "instance",
    "_Feature"
   ],
   "window_display": false
  }
 },
 "nbformat": 4,
 "nbformat_minor": 5
}
