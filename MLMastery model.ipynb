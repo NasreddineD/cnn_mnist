{
 "cells": [
  {
   "cell_type": "markdown",
   "id": "2e21dd68",
   "metadata": {
    "toc": true
   },
   "source": [
    "<h1>Table of Contents<span class=\"tocSkip\"></span></h1>\n",
    "<div class=\"toc\"><ul class=\"toc-item\"><li><span><a href=\"#Clean\" data-toc-modified-id=\"Clean-1\"><span class=\"toc-item-num\">1&nbsp;&nbsp;</span>Clean</a></span></li><li><span><a href=\"#Code-qui-fonctionne-et-n'overfit-pas\" data-toc-modified-id=\"Code-qui-fonctionne-et-n'overfit-pas-2\"><span class=\"toc-item-num\">2&nbsp;&nbsp;</span>Code qui fonctionne et n'overfit pas</a></span></li><li><span><a href=\"#Afficher-les-tests\" data-toc-modified-id=\"Afficher-les-tests-3\"><span class=\"toc-item-num\">3&nbsp;&nbsp;</span>Afficher les tests</a></span></li></ul></div>"
   ]
  },
  {
   "cell_type": "code",
   "execution_count": 30,
   "id": "e84e2eb4",
   "metadata": {},
   "outputs": [
    {
     "ename": "NameError",
     "evalue": "name 'tensorflow' is not defined",
     "output_type": "error",
     "traceback": [
      "\u001b[1;31m---------------------------------------------------------------------------\u001b[0m",
      "\u001b[1;31mNameError\u001b[0m                                 Traceback (most recent call last)",
      "\u001b[1;32m~\\AppData\\Local\\Temp/ipykernel_7936/4278614329.py\u001b[0m in \u001b[0;36m<module>\u001b[1;34m\u001b[0m\n\u001b[1;32m----> 1\u001b[1;33m \u001b[0mtensorflow\u001b[0m\u001b[1;33m-\u001b[0m\u001b[0mcpu\u001b[0m\u001b[1;33m\u001b[0m\u001b[1;33m\u001b[0m\u001b[0m\n\u001b[0m",
      "\u001b[1;31mNameError\u001b[0m: name 'tensorflow' is not defined"
     ]
    }
   ],
   "source": [
    "tensorflow-cpu"
   ]
  },
  {
   "cell_type": "code",
   "execution_count": 1,
   "id": "335561ba",
   "metadata": {},
   "outputs": [],
   "source": [
    "# Data manip\n",
    "import numpy as np\n",
    "import pandas as pd\n",
    "import matplotlib.pyplot as plt\n",
    "%matplotlib inline\n",
    "\n",
    "# Sklearn\n",
    "from sklearn.model_selection import train_test_split\n",
    "from sklearn.metrics import accuracy_score\n",
    "\n",
    "# Keras\n",
    "import tensorflow as tf\n",
    "from tensorflow.keras.layers import BatchNormalization\n",
    "from tensorflow.keras.models import Sequential # initialize neural network library\n",
    "from tensorflow.keras.layers import Dense, Dropout, Conv2D, MaxPooling2D, Flatten # build our layers library\n",
    "from tensorflow.keras.callbacks import EarlyStopping, ModelCheckpoint\n",
    "\n",
    "from tensorflow.keras.models import save_model, load_model"
   ]
  },
  {
   "cell_type": "markdown",
   "id": "738ab689",
   "metadata": {
    "heading_collapsed": true
   },
   "source": [
    "# Clean"
   ]
  },
  {
   "cell_type": "code",
   "execution_count": null,
   "id": "a1c68166",
   "metadata": {
    "hidden": true
   },
   "outputs": [],
   "source": [
    "# load dataset and split data\n",
    "def load_dataset():\n",
    "    # load dataset\n",
    "    data = pd.read_csv(\"C:/Users/Simplon/Google Drive/Nasreddine/Arturo/14 - DEEP LEARNING/03 - MNIST/train.csv\")\n",
    "    \n",
    "    # Define target-features\n",
    "    y = np.array(data.iloc[:,0].values)\n",
    "    X = np.array(data.iloc[:,1:].values)\n",
    "    \n",
    "    # Normalize the data\n",
    "    X = X/255\n",
    "    \n",
    "    # Reshape dataset to have a single channel\n",
    "    X = X.reshape((X.shape[0], 28, 28, 1))\n",
    "    \n",
    "    # One hot encode target values\n",
    "    y = tf.keras.utils.to_categorical(y)\n",
    "    \n",
    "    # Train-test split\n",
    "    X_train, X_test, y_train, y_test = train_test_split(X,y,test_size = 0.3,random_state=42, stratify=y)\n",
    "    \n",
    "    return X_train, X_test, y_train, y_test"
   ]
  },
  {
   "cell_type": "code",
   "execution_count": null,
   "id": "0c7e5ac8",
   "metadata": {
    "hidden": true
   },
   "outputs": [],
   "source": [
    "# define CNN model\n",
    "def define_model():\n",
    "    model = Sequential()\n",
    "    \n",
    "    model.add(Conv2D(32, (3, 3), activation='relu', input_shape=(28, 28, 1)))\n",
    "    model.add(MaxPooling2D((2, 2)))\n",
    "    model.add(Flatten())\n",
    "    \n",
    "    model.add(Dense(100, activation='relu'))\n",
    "    model.add(Dense(10, activation='softmax'))\n",
    "    \n",
    "    # compile model\n",
    "    model.compile(optimizer = 'adam', loss = 'categorical_crossentropy', metrics=['accuracy'])\n",
    "    return model"
   ]
  },
  {
   "cell_type": "code",
   "execution_count": null,
   "id": "d729f522",
   "metadata": {
    "hidden": true
   },
   "outputs": [],
   "source": [
    "# evaluate a model\n",
    "def evaluate_model():\n",
    "    # define model\n",
    "    model = define_model()\n",
    "    \n",
    "    # fit the model\n",
    "    history = model.fit(X_train, y_train, epochs=10, batch_size=32, validation_split=0.2, verbose=1)\n",
    "\n",
    "    return history"
   ]
  },
  {
   "cell_type": "code",
   "execution_count": null,
   "id": "859775e2",
   "metadata": {
    "hidden": true
   },
   "outputs": [],
   "source": [
    "def summarize_diagnostics(histories):\n",
    "    for i in range(len(histories)):\n",
    "        # plot loss\n",
    "        plt.subplot(2, 1, 1)\n",
    "        plt.title('Cross Entropy Loss')\n",
    "        plt.plot(histories[i].history['loss'], color='blue', label='train')\n",
    "        plt.plot(histories[i].history['val_loss'], color='orange', label='test')\n",
    "        # plot accuracy\n",
    "        plt.subplot(2, 1, 2)\n",
    "        plt.title('Classification Accuracy')\n",
    "        plt.plot(histories[i].history['accuracy'], color='blue', label='train')\n",
    "        plt.plot(histories[i].history['val_accuracy'], color='orange', label='test')\n",
    "        plt.show()"
   ]
  },
  {
   "cell_type": "markdown",
   "id": "3ac33cb5",
   "metadata": {},
   "source": [
    "# Code qui fonctionne et n'overfit pas"
   ]
  },
  {
   "cell_type": "code",
   "execution_count": 3,
   "id": "c35e2fa2",
   "metadata": {},
   "outputs": [],
   "source": [
    "# load dataset\n",
    "data = pd.read_csv(\"C:/Users/Simplon/Google Drive/Nasreddine/Arturo/14 - DEEP LEARNING/03 - MNIST/git/data/train.csv\")\n",
    "    \n",
    "# Define target-features\n",
    "y = np.array(data.iloc[:,0].values)\n",
    "X = np.array(data.iloc[:,1:].values)\n",
    "    \n",
    "# Normalize the data\n",
    "X = X/255\n",
    "    \n",
    "# Reshape dataset to have a single channel\n",
    "X = X.reshape((X.shape[0], 28, 28, 1))\n",
    "    \n",
    "# One hot encode target values\n",
    "y = tf.keras.utils.to_categorical(y)\n",
    "    \n",
    "# Train-test split\n",
    "X_train, X_test, y_train, y_test = train_test_split(X,y,test_size = 0.3,random_state=42, stratify=y)"
   ]
  },
  {
   "cell_type": "code",
   "execution_count": 15,
   "id": "77f1e3f0",
   "metadata": {},
   "outputs": [],
   "source": [
    "##model building\n",
    "model = Sequential()\n",
    "\n",
    "#convolutional layer with rectified linear unit activation\n",
    "#32 convolution filters used each of size 3x3\n",
    "model.add(Conv2D(32, kernel_size=(3, 3),activation='relu',input_shape=(28, 28, 1)))\n",
    "\n",
    "#64 convolution filters used each of size 3x3\n",
    "model.add(BatchNormalization())\n",
    "model.add(Conv2D(64, (3, 3), activation='relu'))\n",
    "\n",
    "#choose the best features via pooling\n",
    "model.add(MaxPooling2D(pool_size=(2, 2)))\n",
    "\n",
    "#randomly turn neurons on and off to improve convergence\n",
    "model.add(Dropout(0.25))\n",
    "\n",
    "#flatten since too many dimensions, we only want a classification output\n",
    "model.add(Flatten())\n",
    "\n",
    "#fully connected to get all relevant data\n",
    "model.add(Dense(128, activation='relu'))\n",
    "\n",
    "#one more dropout for convergence' sake :) \n",
    "model.add(Dropout(0.5))\n",
    "\n",
    "#output a softmax to squash the matrix into output probabilities\n",
    "model.add(Dense(10, activation='softmax'))\n",
    "\n",
    "model.compile(loss=\"categorical_crossentropy\",\n",
    "              optimizer=\"Adam\",\n",
    "              metrics=['accuracy'])"
   ]
  },
  {
   "cell_type": "code",
   "execution_count": 16,
   "id": "1dff57f2",
   "metadata": {},
   "outputs": [],
   "source": [
    "es = EarlyStopping(\n",
    "    min_delta=0.001, # minimium amount of change to count as an improvement\n",
    "    patience=7, # how many epochs to wait before stopping\n",
    "    restore_best_weights=True,\n",
    "    monitor = \"val_loss\"\n",
    ")"
   ]
  },
  {
   "cell_type": "code",
   "execution_count": 17,
   "id": "742a36c5",
   "metadata": {},
   "outputs": [],
   "source": [
    "mc = ModelCheckpoint('best_model.h5', monitor='val_accuracy', mode='max', verbose=2, save_best_only=True)"
   ]
  },
  {
   "cell_type": "code",
   "execution_count": 18,
   "id": "30fc769a",
   "metadata": {
    "scrolled": true
   },
   "outputs": [
    {
     "name": "stdout",
     "output_type": "stream",
     "text": [
      "Epoch 1/20\n",
      "\n",
      "Epoch 00001: val_accuracy improved from -inf to 0.96786, saving model to best_model.h5\n",
      "184/184 - 41s - loss: 0.4959 - accuracy: 0.8439 - val_loss: 1.4463 - val_accuracy: 0.9679 - 41s/epoch - 223ms/step\n",
      "Epoch 2/20\n",
      "\n",
      "Epoch 00002: val_accuracy improved from 0.96786 to 0.97823, saving model to best_model.h5\n",
      "184/184 - 41s - loss: 0.1939 - accuracy: 0.9412 - val_loss: 0.5009 - val_accuracy: 0.9782 - 41s/epoch - 223ms/step\n",
      "Epoch 3/20\n",
      "\n",
      "Epoch 00003: val_accuracy improved from 0.97823 to 0.98180, saving model to best_model.h5\n",
      "184/184 - 41s - loss: 0.1398 - accuracy: 0.9565 - val_loss: 0.0896 - val_accuracy: 0.9818 - 41s/epoch - 224ms/step\n",
      "Epoch 4/20\n",
      "\n",
      "Epoch 00004: val_accuracy improved from 0.98180 to 0.98367, saving model to best_model.h5\n",
      "184/184 - 42s - loss: 0.1115 - accuracy: 0.9643 - val_loss: 0.0570 - val_accuracy: 0.9837 - 42s/epoch - 226ms/step\n",
      "Epoch 5/20\n",
      "\n",
      "Epoch 00005: val_accuracy did not improve from 0.98367\n",
      "184/184 - 41s - loss: 0.0962 - accuracy: 0.9704 - val_loss: 0.0601 - val_accuracy: 0.9830 - 41s/epoch - 222ms/step\n",
      "Epoch 6/20\n",
      "\n",
      "Epoch 00006: val_accuracy did not improve from 0.98367\n",
      "184/184 - 41s - loss: 0.0810 - accuracy: 0.9742 - val_loss: 0.0587 - val_accuracy: 0.9823 - 41s/epoch - 223ms/step\n",
      "Epoch 7/20\n",
      "\n",
      "Epoch 00007: val_accuracy improved from 0.98367 to 0.98639, saving model to best_model.h5\n",
      "184/184 - 40s - loss: 0.0743 - accuracy: 0.9751 - val_loss: 0.0524 - val_accuracy: 0.9864 - 40s/epoch - 217ms/step\n",
      "Epoch 8/20\n",
      "\n",
      "Epoch 00008: val_accuracy did not improve from 0.98639\n",
      "184/184 - 41s - loss: 0.0688 - accuracy: 0.9775 - val_loss: 0.0549 - val_accuracy: 0.9842 - 41s/epoch - 222ms/step\n",
      "Epoch 9/20\n",
      "\n",
      "Epoch 00009: val_accuracy improved from 0.98639 to 0.98776, saving model to best_model.h5\n",
      "184/184 - 41s - loss: 0.0580 - accuracy: 0.9796 - val_loss: 0.0501 - val_accuracy: 0.9878 - 41s/epoch - 222ms/step\n",
      "Epoch 10/20\n",
      "\n",
      "Epoch 00010: val_accuracy did not improve from 0.98776\n",
      "184/184 - 41s - loss: 0.0563 - accuracy: 0.9815 - val_loss: 0.0612 - val_accuracy: 0.9842 - 41s/epoch - 225ms/step\n",
      "Epoch 11/20\n",
      "\n",
      "Epoch 00011: val_accuracy did not improve from 0.98776\n",
      "184/184 - 40s - loss: 0.0513 - accuracy: 0.9830 - val_loss: 0.0543 - val_accuracy: 0.9871 - 40s/epoch - 218ms/step\n",
      "Epoch 12/20\n",
      "\n",
      "Epoch 00012: val_accuracy did not improve from 0.98776\n",
      "184/184 - 41s - loss: 0.0442 - accuracy: 0.9847 - val_loss: 0.0637 - val_accuracy: 0.9855 - 41s/epoch - 220ms/step\n",
      "Epoch 13/20\n",
      "\n",
      "Epoch 00013: val_accuracy did not improve from 0.98776\n",
      "184/184 - 41s - loss: 0.0433 - accuracy: 0.9850 - val_loss: 0.0585 - val_accuracy: 0.9854 - 41s/epoch - 221ms/step\n",
      "Epoch 14/20\n",
      "\n",
      "Epoch 00014: val_accuracy did not improve from 0.98776\n",
      "184/184 - 40s - loss: 0.0431 - accuracy: 0.9861 - val_loss: 0.0581 - val_accuracy: 0.9862 - 40s/epoch - 218ms/step\n",
      "Epoch 15/20\n",
      "\n",
      "Epoch 00015: val_accuracy did not improve from 0.98776\n",
      "184/184 - 42s - loss: 0.0382 - accuracy: 0.9871 - val_loss: 0.0587 - val_accuracy: 0.9861 - 42s/epoch - 229ms/step\n",
      "Epoch 16/20\n",
      "\n",
      "Epoch 00016: val_accuracy did not improve from 0.98776\n",
      "184/184 - 43s - loss: 0.0400 - accuracy: 0.9858 - val_loss: 0.0637 - val_accuracy: 0.9850 - 43s/epoch - 232ms/step\n"
     ]
    }
   ],
   "source": [
    "history = model.fit(X_train, y_train, epochs=20, batch_size=128, validation_split=0.2, callbacks=[es,mc], verbose=1)"
   ]
  },
  {
   "cell_type": "code",
   "execution_count": 19,
   "id": "f83b79a5",
   "metadata": {},
   "outputs": [],
   "source": [
    "saved_model = load_model('best_model.h5')"
   ]
  },
  {
   "cell_type": "code",
   "execution_count": 20,
   "id": "3498b554",
   "metadata": {
    "scrolled": true
   },
   "outputs": [
    {
     "name": "stdout",
     "output_type": "stream",
     "text": [
      "919/919 [==============================] - 16s 17ms/step - loss: 0.0172 - accuracy: 0.9950\n",
      "394/394 [==============================] - 7s 17ms/step - loss: 0.0433 - accuracy: 0.9887\n",
      "Train: 0.995, Test: 0.989\n"
     ]
    }
   ],
   "source": [
    "_, train_acc = saved_model.evaluate(X_train, y_train, verbose=1)\n",
    "_, test_acc = saved_model.evaluate(X_test, y_test, verbose=1)\n",
    "print('Train: %.3f, Test: %.3f' % (train_acc, test_acc))"
   ]
  },
  {
   "cell_type": "code",
   "execution_count": 21,
   "id": "2540c40a",
   "metadata": {},
   "outputs": [
    {
     "data": {
      "text/plain": [
       "<matplotlib.legend.Legend at 0x1cf56a7be80>"
      ]
     },
     "execution_count": 21,
     "metadata": {},
     "output_type": "execute_result"
    },
    {
     "data": {
      "image/png": "[encoded data removed]",
      "text/plain": [
       "<Figure size 432x288 with 1 Axes>"
      ]
     },
     "metadata": {
      "needs_background": "light"
     },
     "output_type": "display_data"
    }
   ],
   "source": [
    "plt.plot(history.history['accuracy'], label='accuracy')\n",
    "plt.plot(history.history['val_accuracy'], label = 'val_accuracy')\n",
    "plt.xlabel('Epoch')\n",
    "plt.ylabel('Accuracy')\n",
    "plt.legend(loc='lower right')"
   ]
  },
  {
   "cell_type": "code",
   "execution_count": 23,
   "id": "e4cb69c0",
   "metadata": {},
   "outputs": [
    {
     "data": {
      "text/plain": [
       "<matplotlib.legend.Legend at 0x1cf56b07d90>"
      ]
     },
     "execution_count": 23,
     "metadata": {},
     "output_type": "execute_result"
    },
    {
     "data": {
      "image/png": "[encoded data removed]",
      "text/plain": [
       "<Figure size 432x288 with 1 Axes>"
      ]
     },
     "metadata": {
      "needs_background": "light"
     },
     "output_type": "display_data"
    }
   ],
   "source": [
    "plt.plot(history.history['loss'])\n",
    "plt.plot(history.history['val_loss'])\n",
    "plt.title('model loss')\n",
    "plt.ylabel('loss')\n",
    "plt.xlabel('epoch')\n",
    "plt.legend(['train', 'test'], loc='upper left')"
   ]
  },
  {
   "cell_type": "code",
   "execution_count": null,
   "id": "4fc931e8",
   "metadata": {},
   "outputs": [],
   "source": [
    "#save_model(model,'model.h5')"
   ]
  },
  {
   "cell_type": "code",
   "execution_count": null,
   "id": "95a65689",
   "metadata": {},
   "outputs": [],
   "source": [
    "#model2 = load_model('model.h5')"
   ]
  },
  {
   "cell_type": "markdown",
   "id": "86e04c6b",
   "metadata": {},
   "source": [
    "# Afficher les tests"
   ]
  },
  {
   "cell_type": "code",
   "execution_count": 24,
   "id": "1d4db3b4",
   "metadata": {},
   "outputs": [],
   "source": [
    "# load dataset\n",
    "test = pd.read_csv(\"C:/Users/Simplon/Google Drive/Nasreddine/Arturo/14 - DEEP LEARNING/03 - MNIST/git/data/test.csv\")"
   ]
  },
  {
   "cell_type": "code",
   "execution_count": 25,
   "id": "da7239b4",
   "metadata": {},
   "outputs": [
    {
     "data": {
      "text/plain": [
       "(28000, 784)"
      ]
     },
     "execution_count": 25,
     "metadata": {},
     "output_type": "execute_result"
    }
   ],
   "source": [
    "test.shape"
   ]
  },
  {
   "cell_type": "code",
   "execution_count": 26,
   "id": "c16ba543",
   "metadata": {},
   "outputs": [],
   "source": [
    "# Normalize the data\n",
    "test = test/255"
   ]
  },
  {
   "cell_type": "code",
   "execution_count": 27,
   "id": "6e64b7ba",
   "metadata": {},
   "outputs": [],
   "source": [
    "test = np.array(test)"
   ]
  },
  {
   "cell_type": "code",
   "execution_count": 28,
   "id": "e453ced5",
   "metadata": {
    "scrolled": true
   },
   "outputs": [],
   "source": [
    " # Reshape dataset to have a single channel\n",
    "test = test.reshape((test.shape[0], 28, 28, 1))"
   ]
  },
  {
   "cell_type": "code",
   "execution_count": 29,
   "id": "6a03277b",
   "metadata": {},
   "outputs": [
    {
     "data": {
      "text/plain": [
       "(28000, 28, 28, 1)"
      ]
     },
     "execution_count": 29,
     "metadata": {},
     "output_type": "execute_result"
    }
   ],
   "source": [
    "test.shape"
   ]
  },
  {
   "cell_type": "code",
   "execution_count": 12,
   "id": "6b0fb9f5",
   "metadata": {},
   "outputs": [],
   "source": [
    "model = load_model(\"C:/Users/Simplon/Google Drive/Nasreddine/Arturo/14 - DEEP LEARNING/03 - MNIST/git/notebooks/model.h5\")"
   ]
  },
  {
   "cell_type": "code",
   "execution_count": 13,
   "id": "ad25aa42",
   "metadata": {},
   "outputs": [],
   "source": [
    "prediction = model.predict(test)"
   ]
  },
  {
   "cell_type": "code",
   "execution_count": 14,
   "id": "3ded4ab8",
   "metadata": {},
   "outputs": [],
   "source": [
    "prediction = np.argmax(prediction, axis=1)"
   ]
  },
  {
   "cell_type": "code",
   "execution_count": 15,
   "id": "215b840e",
   "metadata": {},
   "outputs": [],
   "source": [
    "def test_num_CNN(index):\n",
    "    #plt.title('Index: %d  Pred: %d Verif: %d' % (index, y_pred[index], y_testR[index]))\n",
    "    plt.imshow(test[index].reshape([28,28]), cmap=plt.get_cmap('gray'))\n",
    "    plt.show()"
   ]
  },
  {
   "cell_type": "code",
   "execution_count": 37,
   "id": "791d03f0",
   "metadata": {
    "scrolled": true
   },
   "outputs": [
    {
     "data": {
      "image/png": "[encoded data removed]",
      "text/plain": [
       "<Figure size 432x288 with 1 Axes>"
      ]
     },
     "metadata": {
      "needs_background": "light"
     },
     "output_type": "display_data"
    },
    {
     "name": "stdout",
     "output_type": "stream",
     "text": [
      "le chiffre reconnu est:  9\n"
     ]
    }
   ],
   "source": [
    "############################################################################################\n",
    "########################### TEST ALEATOIRE #################################################\n",
    "\n",
    "index = np.random.choice(test.shape[0])\n",
    "test_num_CNN(index)\n",
    "\n",
    "print(\"le chiffre reconnu est: \", prediction[index])"
   ]
  },
  {
   "cell_type": "code",
   "execution_count": 38,
   "id": "891f1a09",
   "metadata": {},
   "outputs": [
    {
     "data": {
      "image/png": "[encoded data removed]",
      "text/plain": [
       "<Figure size 720x720 with 25 Axes>"
      ]
     },
     "metadata": {
      "needs_background": "light"
     },
     "output_type": "display_data"
    }
   ],
   "source": [
    "rows = 5 # defining no. of rows\n",
    "cols = 5 # defining no. of columns\n",
    "\n",
    "f = plt.figure(figsize=(2*cols, 2*rows)) # defining a figure\n",
    "\n",
    "for i in range(rows*cols):\n",
    "    f.add_subplot(rows, cols, i+1) # adding sub plot to figure on each iteration\n",
    "    plt.imshow(test[i].reshape([28,28]), cmap=\"Blues\")\n",
    "    plt.axis(\"off\")\n",
    "    plt.title(str(prediction[i]), y=-0.15, color=\"green\")"
   ]
  }
 ],
 "metadata": {
  "hide_input": false,
  "kernelspec": {
   "display_name": "Python 3 (ipykernel)",
   "language": "python",
   "name": "python3"
  },
  "language_info": {
   "codemirror_mode": {
    "name": "ipython",
    "version": 3
   },
   "file_extension": ".py",
   "mimetype": "text/x-python",
   "name": "python",
   "nbconvert_exporter": "python",
   "pygments_lexer": "ipython3",
   "version": "3.8.8"
  },
  "toc": {
   "base_numbering": 1,
   "nav_menu": {},
   "number_sections": true,
   "sideBar": true,
   "skip_h1_title": false,
   "title_cell": "Table of Contents",
   "title_sidebar": "Contents",
   "toc_cell": true,
   "toc_position": {},
   "toc_section_display": true,
   "toc_window_display": false
  },
  "varInspector": {
   "cols": {
    "lenName": 16,
    "lenType": 16,
    "lenVar": 40
   },
   "kernels_config": {
    "python": {
     "delete_cmd_postfix": "",
     "delete_cmd_prefix": "del ",
     "library": "var_list.py",
     "varRefreshCmd": "print(var_dic_list())"
    },
    "r": {
     "delete_cmd_postfix": ") ",
     "delete_cmd_prefix": "rm(",
     "library": "var_list.r",
     "varRefreshCmd": "cat(var_dic_list()) "
    }
   },
   "types_to_exclude": [
    "module",
    "function",
    "builtin_function_or_method",
    "instance",
    "_Feature"
   ],
   "window_display": false
  }
 },
 "nbformat": 4,
 "nbformat_minor": 5
}
